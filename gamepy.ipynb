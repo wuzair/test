{
 "cells": [
  {
   "cell_type": "code",
   "execution_count": 1,
   "id": "a0c17ef0",
   "metadata": {},
   "outputs": [
    {
     "name": "stdout",
     "output_type": "stream",
     "text": [
      "Collecting pygame\n",
      "  Downloading pygame-2.1.2-cp38-cp38-win_amd64.whl (8.4 MB)\n",
      "Installing collected packages: pygame\n",
      "Successfully installed pygame-2.1.2\n"
     ]
    },
    {
     "name": "stderr",
     "output_type": "stream",
     "text": [
      "WARNING: Ignoring invalid distribution -rotobuf (c:\\users\\waqasu\\appdata\\roaming\\python\\python38\\site-packages)\n",
      "WARNING: Ignoring invalid distribution - (c:\\users\\waqasu\\appdata\\roaming\\python\\python38\\site-packages)\n",
      "WARNING: Ignoring invalid distribution -otobuf (c:\\programdata\\anaconda3\\envs\\tfgpu\\lib\\site-packages)\n",
      "WARNING: Ignoring invalid distribution -rotobuf (c:\\users\\waqasu\\appdata\\roaming\\python\\python38\\site-packages)\n",
      "WARNING: Ignoring invalid distribution - (c:\\users\\waqasu\\appdata\\roaming\\python\\python38\\site-packages)\n",
      "WARNING: Ignoring invalid distribution -otobuf (c:\\programdata\\anaconda3\\envs\\tfgpu\\lib\\site-packages)\n",
      "WARNING: Ignoring invalid distribution -rotobuf (c:\\users\\waqasu\\appdata\\roaming\\python\\python38\\site-packages)\n",
      "WARNING: Ignoring invalid distribution - (c:\\users\\waqasu\\appdata\\roaming\\python\\python38\\site-packages)\n",
      "WARNING: Ignoring invalid distribution -otobuf (c:\\programdata\\anaconda3\\envs\\tfgpu\\lib\\site-packages)\n",
      "WARNING: Ignoring invalid distribution -otobuf (c:\\programdata\\anaconda3\\envs\\tfgpu\\lib\\site-packages)\n",
      "WARNING: Ignoring invalid distribution -rotobuf (c:\\users\\waqasu\\appdata\\roaming\\python\\python38\\site-packages)\n",
      "WARNING: Ignoring invalid distribution - (c:\\users\\waqasu\\appdata\\roaming\\python\\python38\\site-packages)\n",
      "WARNING: Ignoring invalid distribution -otobuf (c:\\programdata\\anaconda3\\envs\\tfgpu\\lib\\site-packages)\n",
      "WARNING: Ignoring invalid distribution -rotobuf (c:\\users\\waqasu\\appdata\\roaming\\python\\python38\\site-packages)\n",
      "WARNING: Ignoring invalid distribution - (c:\\users\\waqasu\\appdata\\roaming\\python\\python38\\site-packages)\n",
      "WARNING: Ignoring invalid distribution -otobuf (c:\\programdata\\anaconda3\\envs\\tfgpu\\lib\\site-packages)\n",
      "WARNING: Ignoring invalid distribution -rotobuf (c:\\users\\waqasu\\appdata\\roaming\\python\\python38\\site-packages)\n",
      "WARNING: Ignoring invalid distribution - (c:\\users\\waqasu\\appdata\\roaming\\python\\python38\\site-packages)\n",
      "WARNING: Ignoring invalid distribution -otobuf (c:\\programdata\\anaconda3\\envs\\tfgpu\\lib\\site-packages)\n"
     ]
    }
   ],
   "source": [
    "!pip install pygame"
   ]
  },
  {
   "cell_type": "code",
   "execution_count": 2,
   "id": "efdb620c",
   "metadata": {},
   "outputs": [
    {
     "name": "stdout",
     "output_type": "stream",
     "text": [
      "pygame 2.1.2 (SDL 2.0.18, Python 3.8.13)\n",
      "Hello from the pygame community. https://www.pygame.org/contribute.html\n"
     ]
    }
   ],
   "source": [
    "import pygame\n",
    "from sys import exit"
   ]
  },
  {
   "cell_type": "code",
   "execution_count": 7,
   "id": "5d68929b",
   "metadata": {},
   "outputs": [
    {
     "ename": "SystemExit",
     "evalue": "",
     "output_type": "error",
     "traceback": [
      "An exception has occurred, use %tb to see the full traceback.\n",
      "\u001b[1;31mSystemExit\u001b[0m\n"
     ]
    }
   ],
   "source": [
    "pygame.init()\n",
    "\n",
    "width = 684\n",
    "height = 360\n",
    "screen = pygame.display.set_mode((width,height))\n",
    "pygame.display.set_caption('Name')\n",
    "clock = pygame.time.Clock()\n",
    "score_font =pygame.font.Font('C:\\\\Users\\\\waqasu\\\\Downloads\\\\Amatic-Bold.ttf',60)\n",
    "\n",
    "#plain_surface = pygame.Surface((300,330))\n",
    "#plain_surface.fill('Red')\n",
    "sky_surface = pygame.image.load('C:\\\\Users\\\\waqasu\\\\Pictures\\\\sky.jpg').convert()\n",
    "ground_surface = pygame.image.load('C:\\\\Users\\\\waqasu\\\\Pictures\\\\ground.png').convert_alpha()\n",
    "text_surface = score_font.render('This game', True, 'Green')\n",
    "enemy_surface = pygame.image.load('C:\\\\Users\\\\waqasu\\\\Pictures\\\\enemy.png').convert_alpha ()\n",
    "player_surface = pygame.image.load('C:\\\\Users\\\\waqasu\\\\Pictures\\\\player.png').convert_alpha ()\n",
    "player_rect = player_surface.get_rect(topleft = (60,260))\n",
    "\n",
    "snail_x = 600\n",
    "snail_y = 260\n",
    "\n",
    "while True:\n",
    "    for event in pygame.event.get():\n",
    "        if event.type == pygame.QUIT: \n",
    "            pygame.quit()\n",
    "            exit()\n",
    "    #blit block image transfer\n",
    "    screen.blit(sky_surface,(0,0))\n",
    "    screen.blit(ground_surface,(0,0))\n",
    "    screen.blit(text_surface,(250,40))\n",
    "    screen.blit(enemy_surface,player_rect)\n",
    "    snail_x -= 1\n",
    "    if snail_x<1:\n",
    "        snail_x=680\n",
    "    \n",
    "    screen.blit(player_surface,(60,260))\n",
    "    pygame.display.update()\n",
    "    clock.tick(60)"
   ]
  },
  {
   "cell_type": "code",
   "execution_count": null,
   "id": "36154e48",
   "metadata": {},
   "outputs": [],
   "source": []
  }
 ],
 "metadata": {
  "kernelspec": {
   "display_name": "Python 3 (ipykernel)",
   "language": "python",
   "name": "python3"
  },
  "language_info": {
   "codemirror_mode": {
    "name": "ipython",
    "version": 3
   },
   "file_extension": ".py",
   "mimetype": "text/x-python",
   "name": "python",
   "nbconvert_exporter": "python",
   "pygments_lexer": "ipython3",
   "version": "3.8.13"
  }
 },
 "nbformat": 4,
 "nbformat_minor": 5
}
